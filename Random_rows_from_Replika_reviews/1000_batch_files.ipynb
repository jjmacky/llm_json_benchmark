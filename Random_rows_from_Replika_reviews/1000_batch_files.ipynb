{
 "cells": [
  {
   "cell_type": "code",
   "execution_count": 2,
   "metadata": {},
   "outputs": [
    {
     "name": "stdout",
     "output_type": "stream",
     "text": [
      "Splitting completed. Check the 'Batched files' folder for the batched files.\n"
     ]
    }
   ],
   "source": [
    "import pandas as pd\n",
    "import os\n",
    "\n",
    "# File and folder names\n",
    "input_file = '1000_rows_sampled.csv'\n",
    "output_folder = 'Batched files'\n",
    "\n",
    "# Create the output folder if it doesn't exist\n",
    "if not os.path.exists(output_folder):\n",
    "    os.makedirs(output_folder)\n",
    "\n",
    "# Read the input CSV file\n",
    "df = pd.read_csv(input_file)\n",
    "\n",
    "# Calculate the number of rows per file (assuming the header is not counted towards the 100 rows)\n",
    "rows_per_file = 100\n",
    "\n",
    "# Split and save the files\n",
    "for start_row in range(0, len(df), rows_per_file):\n",
    "    # Define the end row for the current slice\n",
    "    end_row = start_row + rows_per_file\n",
    "    # Slice the dataframe\n",
    "    df_slice = df.iloc[start_row:end_row]\n",
    "    # Generate the output filename\n",
    "    output_filename = f\"{output_folder}/batch_{start_row//rows_per_file + 1}.csv\"\n",
    "    # Save the slice to a new CSV file, include the header only in the first file\n",
    "    df_slice.to_csv(output_filename, index=False)\n",
    "\n",
    "print(f\"Splitting completed. Check the '{output_folder}' folder for the batched files.\")\n"
   ]
  }
 ],
 "metadata": {
  "kernelspec": {
   "display_name": "Python 3",
   "language": "python",
   "name": "python3"
  },
  "language_info": {
   "codemirror_mode": {
    "name": "ipython",
    "version": 3
   },
   "file_extension": ".py",
   "mimetype": "text/x-python",
   "name": "python",
   "nbconvert_exporter": "python",
   "pygments_lexer": "ipython3",
   "version": "3.11.4"
  }
 },
 "nbformat": 4,
 "nbformat_minor": 2
}
